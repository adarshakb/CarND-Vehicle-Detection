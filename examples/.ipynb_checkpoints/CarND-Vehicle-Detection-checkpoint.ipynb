{
 "cells": [
  {
   "cell_type": "code",
   "execution_count": 6,
   "metadata": {
    "collapsed": true
   },
   "outputs": [],
   "source": [
    "import sys\n",
    "import os.path\n",
    "sys.path.append('/Users/abadarinath/Applications/anaconda/envs/UdacityNanoCar/lib/python3.5/site-packages')\n",
    "import numpy as np\n",
    "import cv2\n",
    "%matplotlib inline\n",
    "from matplotlib import pyplot as plt\n",
    "from os import listdir\n",
    "from os.path import isfile, join\n",
    "import pickle\n",
    "\n",
    "CAMERA_CAL_DIRECTORY = './camera_cal/'"
   ]
  },
  {
   "cell_type": "code",
   "execution_count": null,
   "metadata": {
    "collapsed": true
   },
   "outputs": [],
   "source": []
  },
  {
   "cell_type": "code",
   "execution_count": 7,
   "metadata": {
    "collapsed": true
   },
   "outputs": [],
   "source": [
    "def readImagesFromDir(dirPath,rgb=False):\n",
    "    allDirfiles = [dirPath+f for f in listdir(dirPath) if isfile(join(dirPath, f))]\n",
    "    result = []\n",
    "    for i in range(len(allDirfiles)):\n",
    "        if rgb:\n",
    "            bgr_img = cv2.imread(os.path.abspath(allDirfiles[i]))\n",
    "            b,g,r = cv2.split(bgr_img)       # get b,g,r\n",
    "            result.append(cv2.merge([r,g,b]))\n",
    "        else:\n",
    "            result.append(cv2.imread(os.path.abspath(allDirfiles[i])))\n",
    "    return result"
   ]
  },
  {
   "cell_type": "code",
   "execution_count": null,
   "metadata": {
    "collapsed": true
   },
   "outputs": [],
   "source": []
  },
  {
   "cell_type": "code",
   "execution_count": 8,
   "metadata": {
    "collapsed": true
   },
   "outputs": [],
   "source": [
    "# Define a function that takes an image, a list of bounding boxes, \n",
    "# and optional color tuple and line thickness as inputs\n",
    "# then draws boxes in that color on the output\n",
    "\n",
    "def draw_boxes(img, bboxes, color=(0, 0, 255), thick=6):\n",
    "    # make a copy of the image\n",
    "    draw_img = np.copy(img)\n",
    "    # draw each bounding box on your image copy using cv2.rectangle()\n",
    "    # Iterate through the bounding boxes\n",
    "    for bbox in bboxes:\n",
    "        # Draw a rectangle given bbox coordinates\n",
    "        cv2.rectangle(draw_img, bbox[0], bbox[1], color, thick)\n",
    "    # return the image copy with boxes drawn\n",
    "    return draw_img # Change this line to return image copy with boxes"
   ]
  },
  {
   "cell_type": "code",
   "execution_count": null,
   "metadata": {
    "collapsed": true
   },
   "outputs": [],
   "source": []
  },
  {
   "cell_type": "code",
   "execution_count": 9,
   "metadata": {
    "collapsed": true
   },
   "outputs": [],
   "source": [
    "# Define a function to compute color histogram features  \n",
    "def color_hist(img, nbins=32, bins_range=(0, 256), debug=False):\n",
    "    # Compute the histogram of the RGB channels separately\n",
    "    rhist = np.histogram(img[:,:,0], bins=nbins, range=bins_range)\n",
    "    ghist = np.histogram(img[:,:,1], bins=nbins, range=bins_range)\n",
    "    bhist = np.histogram(img[:,:,2], bins=nbins, range=bins_range)\n",
    "    # Generating bin centers\n",
    "    bin_edges = rhist[1]\n",
    "    bin_centers = (bin_edges[1:]  + bin_edges[0:len(bin_edges)-1])/2\n",
    "    # Concatenate the histograms into a single feature vector\n",
    "    hist_features = np.concatenate((rhist[0], ghist[0], bhist[0]))\n",
    "    # Return the individual histograms, bin_centers and feature vector\n",
    "    return rhist, ghist, bhist, bin_centers, hist_features\n",
    "    \n",
    "    # Plot a figure with all three bar charts\n",
    "    if debug:\n",
    "        fig = plt.figure(figsize=(12,3))\n",
    "        plt.subplot(131)\n",
    "        plt.bar(bincen, rh[0])\n",
    "        plt.xlim(0, 256)\n",
    "        plt.title('R Histogram')\n",
    "        plt.subplot(132)\n",
    "        plt.bar(bincen, gh[0])\n",
    "        plt.xlim(0, 256)\n",
    "        plt.title('G Histogram')\n",
    "        plt.subplot(133)\n",
    "        plt.bar(bincen, bh[0])\n",
    "        plt.xlim(0, 256)\n",
    "        plt.title('B Histogram')\n",
    "        fig.tight_layout()"
   ]
  },
  {
   "cell_type": "code",
   "execution_count": null,
   "metadata": {
    "collapsed": true
   },
   "outputs": [],
   "source": []
  },
  {
   "cell_type": "code",
   "execution_count": 10,
   "metadata": {
    "collapsed": false
   },
   "outputs": [
    {
     "ename": "FileNotFoundError",
     "evalue": "[Errno 2] No such file or directory: './camera_cal/dist_pickle.p'",
     "output_type": "error",
     "traceback": [
      "\u001b[0;31m---------------------------------------------------------------------------\u001b[0m",
      "\u001b[0;31mFileNotFoundError\u001b[0m                         Traceback (most recent call last)",
      "\u001b[0;32m<ipython-input-10-e9fc8e6e59c4>\u001b[0m in \u001b[0;36m<module>\u001b[0;34m()\u001b[0m\n\u001b[0;32m----> 1\u001b[0;31m \u001b[0mfile\u001b[0m \u001b[0;34m=\u001b[0m \u001b[0mopen\u001b[0m\u001b[0;34m(\u001b[0m\u001b[0mCAMERA_CAL_DIRECTORY\u001b[0m\u001b[0;34m+\u001b[0m\u001b[0;34m\"dist_pickle.p\"\u001b[0m\u001b[0;34m,\u001b[0m\u001b[0;34m'rb'\u001b[0m\u001b[0;34m)\u001b[0m\u001b[0;34m\u001b[0m\u001b[0m\n\u001b[0m\u001b[1;32m      2\u001b[0m \u001b[0mdistortion\u001b[0m \u001b[0;34m=\u001b[0m \u001b[0mpickle\u001b[0m\u001b[0;34m.\u001b[0m\u001b[0mload\u001b[0m\u001b[0;34m(\u001b[0m\u001b[0mfile\u001b[0m\u001b[0;34m)\u001b[0m\u001b[0;34m\u001b[0m\u001b[0m\n\u001b[1;32m      3\u001b[0m \u001b[0mfile\u001b[0m\u001b[0;34m.\u001b[0m\u001b[0mclose\u001b[0m\u001b[0;34m(\u001b[0m\u001b[0;34m)\u001b[0m\u001b[0;34m\u001b[0m\u001b[0m\n\u001b[1;32m      4\u001b[0m \u001b[0;32mdef\u001b[0m \u001b[0munDistortImage\u001b[0m\u001b[0;34m(\u001b[0m\u001b[0mimg\u001b[0m\u001b[0;34m,\u001b[0m\u001b[0mdebug\u001b[0m\u001b[0;34m=\u001b[0m\u001b[0;32mFalse\u001b[0m\u001b[0;34m)\u001b[0m\u001b[0;34m:\u001b[0m\u001b[0;34m\u001b[0m\u001b[0m\n\u001b[1;32m      5\u001b[0m     \u001b[0;32mglobal\u001b[0m \u001b[0mdistortion\u001b[0m\u001b[0;34m\u001b[0m\u001b[0m\n",
      "\u001b[0;31mFileNotFoundError\u001b[0m: [Errno 2] No such file or directory: './camera_cal/dist_pickle.p'"
     ]
    }
   ],
   "source": [
    "file = open(CAMERA_CAL_DIRECTORY+\"dist_pickle.p\",'rb')\n",
    "distortion = pickle.load(file)\n",
    "file.close()\n",
    "def unDistortImage(img,debug=False):\n",
    "    global distortion\n",
    "    global file\n",
    "    dst = cv2.undistort(img, distortion['mtx'], distortion['dist'], None, distortion['mtx'])\n",
    "    if debug:\n",
    "        print(\"before image\")\n",
    "        displayImages([img])\n",
    "        print(\"undistorted image\")\n",
    "        displayImages([dst])\n",
    "    return dst"
   ]
  },
  {
   "cell_type": "code",
   "execution_count": null,
   "metadata": {
    "collapsed": true
   },
   "outputs": [],
   "source": []
  },
  {
   "cell_type": "code",
   "execution_count": null,
   "metadata": {
    "collapsed": true
   },
   "outputs": [],
   "source": []
  },
  {
   "cell_type": "code",
   "execution_count": null,
   "metadata": {
    "collapsed": true
   },
   "outputs": [],
   "source": []
  },
  {
   "cell_type": "code",
   "execution_count": null,
   "metadata": {
    "collapsed": true
   },
   "outputs": [],
   "source": []
  },
  {
   "cell_type": "code",
   "execution_count": null,
   "metadata": {
    "collapsed": true
   },
   "outputs": [],
   "source": []
  },
  {
   "cell_type": "code",
   "execution_count": null,
   "metadata": {
    "collapsed": true
   },
   "outputs": [],
   "source": []
  },
  {
   "cell_type": "code",
   "execution_count": null,
   "metadata": {
    "collapsed": true
   },
   "outputs": [],
   "source": []
  },
  {
   "cell_type": "code",
   "execution_count": null,
   "metadata": {
    "collapsed": true
   },
   "outputs": [],
   "source": []
  },
  {
   "cell_type": "code",
   "execution_count": null,
   "metadata": {
    "collapsed": true
   },
   "outputs": [],
   "source": []
  },
  {
   "cell_type": "code",
   "execution_count": null,
   "metadata": {
    "collapsed": true
   },
   "outputs": [],
   "source": []
  },
  {
   "cell_type": "code",
   "execution_count": null,
   "metadata": {
    "collapsed": true
   },
   "outputs": [],
   "source": []
  },
  {
   "cell_type": "code",
   "execution_count": null,
   "metadata": {
    "collapsed": true
   },
   "outputs": [],
   "source": []
  },
  {
   "cell_type": "code",
   "execution_count": null,
   "metadata": {
    "collapsed": true
   },
   "outputs": [],
   "source": []
  },
  {
   "cell_type": "code",
   "execution_count": null,
   "metadata": {
    "collapsed": true
   },
   "outputs": [],
   "source": []
  },
  {
   "cell_type": "code",
   "execution_count": null,
   "metadata": {
    "collapsed": true
   },
   "outputs": [],
   "source": [
    "def pipeline(img,debug=False):\n",
    "    orgImg = img\n",
    "    unDistortedImg = unDistortImage(orgImg,False)\n",
    "    croppedImg = cropHorizonInImage(unDistortedImg,debug=False)\n",
    "    binaryImgs = []\n",
    "    binaryImgs.append({'type':'hls_s','img':hls_select(croppedImg, thresh=(100, 255),debug=False),'final':None})\n",
    "    binaryImgs.append({'type':'sobel','img':applySobel(croppedImg,debug=False,cmap='gray'),'final':None})\n",
    "    binaryImgs.append({'type':'isolate','img':isolateLaneColorsAndReturnBinary(croppedImg,debug=False),'final':None})\n",
    "    N_BOX = 10\n",
    "    BOX_SIZE = 20\n",
    "    MOVING_AVG_CONST = 10\n",
    "    histogram = []\n",
    "    finalMovingAvg = []\n",
    "    finalBinaryWarpedImg = None\n",
    "    for binaryImg in binaryImgs:\n",
    "        regionOfIntrest = region_of_interest(binaryImg['img'],False,'gray')\n",
    "        binaryImg['final'] = perspectiveTransform(binaryImg['img'],False,'gray')\n",
    "        finalImg = binaryImg['final']\n",
    "        if finalBinaryWarpedImg == None:\n",
    "            finalBinaryWarpedImg = finalImg\n",
    "        else:\n",
    "            finalBinaryWarpedImg = blendImage(finalBinaryWarpedImg,finalImg,debug=False,cmap='gray')\n",
    "        finalImgHeight = binaryImg['final'].shape[0]\n",
    "        for i in range(0,N_BOX):\n",
    "            tmpHeight = i * BOX_SIZE\n",
    "            if finalImgHeight/2-tmpHeight < 0:\n",
    "                print(\"SOMETHING WENT WRONG. Reduce the N_BOX or BOX_SIZE\")\n",
    "            tmpImg = finalImg[finalImgHeight/2-tmpHeight:finalImgHeight-tmpHeight,:]\n",
    "            \n",
    "            shadowDetected = False\n",
    "            if(binaryImg['type'] == 'hls_s'):\n",
    "                #detect shadow\n",
    "                for tmpMultiplier in range(N_BOX//2):\n",
    "                    finaltmpImgHeight = tmpImg.shape[0]\n",
    "                    sum = (np.sum(tmpImg[(finaltmpImgHeight-tmpMultiplier*BOX_SIZE):finaltmpImgHeight-(tmpMultiplier-1*BOX_SIZE),:]))\n",
    "                    if sum > 5000:\n",
    "                        shadowDetected = True\n",
    "                        if debug:\n",
    "                            print(\"SHADOW DETECTED!!!\");\n",
    "            \n",
    "            tmpHist = np.sum(tmpImg, axis=0)\n",
    "            if shadowDetected == False:\n",
    "                tmpHist = tmpHist * 2\n",
    "\n",
    "            tmpMovingAvg = moving_average(tmpHist,n=MOVING_AVG_CONST)\n",
    "            tmpMovingAvg = np.insert(tmpMovingAvg,0,np.zeros(MOVING_AVG_CONST-1))\n",
    "            \n",
    "            if i >= len(histogram):\n",
    "                histogram.append(tmpHist)\n",
    "                finalMovingAvg.append(tmpMovingAvg)\n",
    "            else:\n",
    "                histogram[i] = np.add(histogram[i],tmpHist)\n",
    "                finalMovingAvg[i] = np.add(finalMovingAvg[i],tmpMovingAvg)\n",
    "\n",
    "#             if debug:\n",
    "#                 plt.imshow(tmpImg,cmap='gray')\n",
    "#                 tmp2 = moving_average(tmpHist,n=MOVING_AVG_CONST)\n",
    "#                 tmp2 = np.insert(tmp2,0,np.zeros(MOVING_AVG_CONST-1))\n",
    "#                 #plt.plot(tmpHist)\n",
    "#                 plt.plot(tmp2)\n",
    "#                 plt.show()\n",
    "    peaks,leftPeaks,rightPeaks = findLanePoints(finalMovingAvg,False)\n",
    "    result = calculateLaneCurvatureAndAddonOriginalImage(binary_warped=finalBinaryWarpedImg,histBinary=finalMovingAvg,leftPeaks=leftPeaks,rightPeaks=rightPeaks,N_BOX=N_BOX,BOX_SIZE=BOX_SIZE,debug=False,originalImg=orgImg)\n",
    "\n",
    "    if debug:\n",
    "        plt.imshow(croppedImg)\n",
    "        for tmp in histogram:\n",
    "            plt.plot(tmp)\n",
    "        for tmp in finalMovingAvg:\n",
    "            plt.plot(tmp)\n",
    "        plt.show()  \n",
    "    return result"
   ]
  },
  {
   "cell_type": "code",
   "execution_count": null,
   "metadata": {
    "collapsed": true
   },
   "outputs": [],
   "source": []
  },
  {
   "cell_type": "code",
   "execution_count": null,
   "metadata": {
    "collapsed": true
   },
   "outputs": [],
   "source": [
    "testImgs = readImagesFromDir('./test_images/',True)\n",
    "\n",
    "for i in range(len(testImgs)):\n",
    "    img = testImgs[i]\n",
    "    result = pipeline(img, False)\n",
    "    print(\"Final result\")\n",
    "    plt.imshow(result)\n",
    "    plt.show()"
   ]
  }
 ],
 "metadata": {
  "anaconda-cloud": {},
  "kernelspec": {
   "display_name": "Python [conda root]",
   "language": "python",
   "name": "conda-root-py"
  },
  "language_info": {
   "codemirror_mode": {
    "name": "ipython",
    "version": 3
   },
   "file_extension": ".py",
   "mimetype": "text/x-python",
   "name": "python",
   "nbconvert_exporter": "python",
   "pygments_lexer": "ipython3",
   "version": "3.5.2"
  }
 },
 "nbformat": 4,
 "nbformat_minor": 1
}
